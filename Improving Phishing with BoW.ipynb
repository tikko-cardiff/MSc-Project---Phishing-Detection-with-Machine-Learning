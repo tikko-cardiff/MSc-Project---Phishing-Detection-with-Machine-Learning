{
 "cells": [
  {
   "cell_type": "code",
   "execution_count": 1,
   "id": "214c2f47",
   "metadata": {},
   "outputs": [],
   "source": [
    "#importing required libraries\n",
    "import numpy as np\n",
    "import pandas as pd\n",
    "import matplotlib.pyplot as plt\n",
    "import seaborn as sns\n",
    "%matplotlib inline\n",
    "from wordcloud import WordCloud\n",
    "\n",
    "#for feature engineering\n",
    "import nltk\n",
    "from nltk.stem import WordNetLemmatizer\n",
    "from nltk.stem import PorterStemmer\n",
    "from nltk.corpus import stopwords\n",
    "from nltk.tokenize import word_tokenize\n",
    "\n",
    "\n",
    "#import to split train and test data\n",
    "from sklearn.model_selection import train_test_split\n",
    "\n",
    "#import for Ml classfifiers\n",
    "from sklearn.ensemble import RandomForestClassifier, AdaBoostClassifier\n",
    "from sklearn.svm import SVC\n",
    "from sklearn.tree import DecisionTreeClassifier\n",
    "from sklearn.linear_model import LogisticRegression\n",
    "from sklearn.neighbors import KNeighborsClassifier\n",
    "from xgboost import XGBClassifier\n",
    "from sklearn.neural_network import MLPClassifier\n",
    "\n",
    "#import for prediction evaluation\n",
    "from sklearn.metrics import classification_report,confusion_matrix,accuracy_score, precision_score\n",
    "from sklearn.model_selection import GridSearchCV\n",
    "\n",
    "from sklearn.feature_extraction.text import CountVectorizer\n",
    "from sklearn.metrics import roc_curve, auc"
   ]
  },
  {
   "cell_type": "markdown",
   "id": "61d7db38",
   "metadata": {},
   "source": [
    "#### Load and Clean Dataset"
   ]
  },
  {
   "cell_type": "code",
   "execution_count": 2,
   "id": "ed7c15d2",
   "metadata": {},
   "outputs": [
    {
     "data": {
      "text/html": [
       "<div>\n",
       "<style scoped>\n",
       "    .dataframe tbody tr th:only-of-type {\n",
       "        vertical-align: middle;\n",
       "    }\n",
       "\n",
       "    .dataframe tbody tr th {\n",
       "        vertical-align: top;\n",
       "    }\n",
       "\n",
       "    .dataframe thead th {\n",
       "        text-align: right;\n",
       "    }\n",
       "</style>\n",
       "<table border=\"1\" class=\"dataframe\">\n",
       "  <thead>\n",
       "    <tr style=\"text-align: right;\">\n",
       "      <th></th>\n",
       "      <th>Email Content</th>\n",
       "      <th>Label</th>\n",
       "    </tr>\n",
       "  </thead>\n",
       "  <tbody>\n",
       "    <tr>\n",
       "      <th>0</th>\n",
       "      <td>thank you .</td>\n",
       "      <td>ham</td>\n",
       "    </tr>\n",
       "    <tr>\n",
       "      <th>1</th>\n",
       "      <td>sally : what timing , ask and you shall receiv...</td>\n",
       "      <td>ham</td>\n",
       "    </tr>\n",
       "    <tr>\n",
       "      <th>2</th>\n",
       "      <td>over the next few weeks , project apollo and b...</td>\n",
       "      <td>ham</td>\n",
       "    </tr>\n",
       "    <tr>\n",
       "      <th>3</th>\n",
       "      <td>a ) year end reviews - report needs generating...</td>\n",
       "      <td>ham</td>\n",
       "    </tr>\n",
       "    <tr>\n",
       "      <th>4</th>\n",
       "      <td>good morning , i ' d love to go get some coffe...</td>\n",
       "      <td>ham</td>\n",
       "    </tr>\n",
       "  </tbody>\n",
       "</table>\n",
       "</div>"
      ],
      "text/plain": [
       "                                       Email Content Label\n",
       "0                                        thank you .   ham\n",
       "1  sally : what timing , ask and you shall receiv...   ham\n",
       "2  over the next few weeks , project apollo and b...   ham\n",
       "3  a ) year end reviews - report needs generating...   ham\n",
       "4  good morning , i ' d love to go get some coffe...   ham"
      ]
     },
     "execution_count": 2,
     "metadata": {},
     "output_type": "execute_result"
    }
   ],
   "source": [
    "#loading the dataset into a dataframe\n",
    "email_phish = pd.read_csv(\"C:\\\\Users\\E7470\\OneDrive - Robert Gordon University\\Documents\\Term 3\\Dataset\\email dataset\\spamham2.csv\", dtype={'Email Content': str})\n",
    "email_phish.head()"
   ]
  },
  {
   "cell_type": "code",
   "execution_count": 3,
   "id": "519c89ce",
   "metadata": {},
   "outputs": [
    {
     "data": {
      "text/plain": [
       "(32784, 2)"
      ]
     },
     "execution_count": 3,
     "metadata": {},
     "output_type": "execute_result"
    }
   ],
   "source": [
    "#check for number of rows and columns in the dataset befor any processing\n",
    "email_phish.shape"
   ]
  },
  {
   "cell_type": "code",
   "execution_count": 4,
   "id": "5f931a25",
   "metadata": {},
   "outputs": [
    {
     "data": {
      "text/plain": [
       "ham     16623\n",
       "spam    16081\n",
       "Name: Label, dtype: int64"
      ]
     },
     "execution_count": 4,
     "metadata": {},
     "output_type": "execute_result"
    }
   ],
   "source": [
    "#check for balance of spam and ham email befor any processing\n",
    "email_phish['Label'].value_counts()"
   ]
  },
  {
   "cell_type": "code",
   "execution_count": 5,
   "id": "670d1fcb",
   "metadata": {},
   "outputs": [
    {
     "data": {
      "text/plain": [
       "Email Content    450\n",
       "Label             80\n",
       "dtype: int64"
      ]
     },
     "execution_count": 5,
     "metadata": {},
     "output_type": "execute_result"
    }
   ],
   "source": [
    "#chekcing for and identifying any null values\n",
    "email_phish.isnull().sum()"
   ]
  },
  {
   "cell_type": "code",
   "execution_count": 6,
   "id": "07442e32",
   "metadata": {},
   "outputs": [],
   "source": [
    "email_phish.dropna(inplace=True)"
   ]
  },
  {
   "cell_type": "code",
   "execution_count": 7,
   "id": "6a0ac80c",
   "metadata": {},
   "outputs": [
    {
     "data": {
      "text/plain": [
       "(32254, 2)"
      ]
     },
     "execution_count": 7,
     "metadata": {},
     "output_type": "execute_result"
    }
   ],
   "source": [
    "#check for number of rows and columns in the dataset \n",
    "email_phish.shape"
   ]
  },
  {
   "cell_type": "code",
   "execution_count": 8,
   "id": "8f9e36a6",
   "metadata": {},
   "outputs": [
    {
     "data": {
      "text/plain": [
       "ham     16492\n",
       "spam    15762\n",
       "Name: Label, dtype: int64"
      ]
     },
     "execution_count": 8,
     "metadata": {},
     "output_type": "execute_result"
    }
   ],
   "source": [
    "#check for balance of spam and ham email\n",
    "email_phish['Label'].value_counts()"
   ]
  },
  {
   "cell_type": "markdown",
   "id": "03a87c8f",
   "metadata": {},
   "source": [
    "#### Feature Engineering"
   ]
  },
  {
   "cell_type": "code",
   "execution_count": 9,
   "id": "4d124d1e",
   "metadata": {},
   "outputs": [],
   "source": [
    "#using the numpy char module to convert all text to lowercase\n",
    "email_content = email_phish['Email Content']\n",
    "def lower_case(email_content):\n",
    "    return np.char.lower(email_content)"
   ]
  },
  {
   "cell_type": "code",
   "execution_count": 10,
   "id": "befa8304",
   "metadata": {},
   "outputs": [],
   "source": [
    "#using the nltk stop words to remove stop words and tokenize\n",
    "def del_stop_words(email_content):\n",
    "    stop_words = stopwords.words('english')\n",
    "    words = word_tokenize(str(email_content))\n",
    "    new_text = \"\"\n",
    "    for w in words:\n",
    "        if w not in stop_words and len(w) > 1:\n",
    "            new_text = new_text + \" \" + w\n",
    "    return new_text\n"
   ]
  },
  {
   "cell_type": "code",
   "execution_count": 11,
   "id": "597d32d9",
   "metadata": {
    "scrolled": true
   },
   "outputs": [],
   "source": [
    "#using the char function to remove punction and spec characters\n",
    "def remove_punctuation(email_content):\n",
    "    symbols = \"!\\\"#$%&()*+-./:;<=>?@[\\]^_`{|}~\\n\"\n",
    "    for i in range(len(symbols)):\n",
    "        email_content = np.char.replace(email_content, symbols[i], ' ')\n",
    "        email_content = np.char.replace(email_content, \"  \", \" \")\n",
    "    data = np.char.replace(email_content, ',', '')\n",
    "    return email_content"
   ]
  },
  {
   "cell_type": "code",
   "execution_count": 12,
   "id": "85d5282d",
   "metadata": {},
   "outputs": [],
   "source": [
    "#stemmatization using PortStemmer\n",
    "def stemm(email_content):\n",
    "    stemmer= PorterStemmer()\n",
    "    \n",
    "    tokens = word_tokenize(str(email_content))\n",
    "    new_text = \"\"\n",
    "    for w in tokens:\n",
    "        new_text = new_text + \" \" + stemmer.stem(w)\n",
    "    return new_text"
   ]
  },
  {
   "cell_type": "code",
   "execution_count": 13,
   "id": "cfb56497",
   "metadata": {},
   "outputs": [],
   "source": [
    "#lemmatization using WordNetlemmatizer\n",
    "def lemma(email_content):\n",
    "    lemma= WordNetLemmatizer()\n",
    "    \n",
    "    tokens = word_tokenize(str(email_content))\n",
    "    new_text = \"\"\n",
    "    for w in tokens:\n",
    "        new_text = new_text + \" \" + lemma.lemmatize(w)\n",
    "    return new_text"
   ]
  },
  {
   "cell_type": "code",
   "execution_count": 14,
   "id": "d6cbe7ef",
   "metadata": {},
   "outputs": [],
   "source": [
    "def preprocess(email_content):\n",
    "    email_content = lower_case(email_content)\n",
    "    email_content = del_stop_words(email_content)\n",
    "    email_content = remove_punctuation(email_content)\n",
    "    email_content = stemm(email_content)\n",
    "    email_content = lemma(email_content)\n",
    "    return email_content"
   ]
  },
  {
   "cell_type": "code",
   "execution_count": 15,
   "id": "3ea6983d",
   "metadata": {},
   "outputs": [],
   "source": [
    "def apply_preprocess(series):\n",
    "    preprocessed_data = series.apply(preprocess)\n",
    "    return preprocessed_data"
   ]
  },
  {
   "cell_type": "code",
   "execution_count": 16,
   "id": "29941524",
   "metadata": {},
   "outputs": [
    {
     "name": "stdout",
     "output_type": "stream",
     "text": [
      "0                                                    thank\n",
      "1         salli time ask shall receiv per discus list u...\n",
      "2         next week project apollo beyond conduct final...\n",
      "3         year end review report need gener like mid ye...\n",
      "4         good morn love go get coffe rememb annoy proj...\n",
      "                               ...                        \n",
      "32779     gener viagra find everyon switch ideal solut ...\n",
      "32780          learn last 10 time longer bed read plod net\n",
      "32781     free date site fill ton sex addict flower gif...\n",
      "32782     hi need softwar give link http zk net softyou...\n",
      "32783     html bodi pwhi take look plose weight week pa...\n",
      "Name: Email Content, Length: 32254, dtype: object\n"
     ]
    }
   ],
   "source": [
    "data = apply_preprocess(email_phish['Email Content'])\n",
    "print(data)"
   ]
  },
  {
   "cell_type": "markdown",
   "id": "12d7e6e5",
   "metadata": {},
   "source": [
    "#### Split Dataset - Train & Test"
   ]
  },
  {
   "cell_type": "code",
   "execution_count": 17,
   "id": "d75dda52",
   "metadata": {},
   "outputs": [],
   "source": [
    "#setting email content and identifying label in variable\n",
    "X = data\n",
    "Y = email_phish['Label']"
   ]
  },
  {
   "cell_type": "code",
   "execution_count": 18,
   "id": "0037e0aa",
   "metadata": {},
   "outputs": [],
   "source": [
    "#splitting test size into 80/20, shuffle the data due to data balancing\n",
    "X_trainset, X_testset, Y_trainset, Y_testset = train_test_split(X,Y, test_size=0.2, random_state= 3, shuffle = True)"
   ]
  },
  {
   "cell_type": "markdown",
   "id": "c45786f9",
   "metadata": {},
   "source": [
    "#### Feature Extraction - Bag of Words Using Word Vectorizer"
   ]
  },
  {
   "cell_type": "code",
   "execution_count": 19,
   "id": "43a2e930",
   "metadata": {},
   "outputs": [
    {
     "name": "stdout",
     "output_type": "stream",
     "text": [
      "[['00']\n",
      " ['000']\n",
      " ['0000']\n",
      " ...\n",
      " ['zzucpkow']\n",
      " ['zzxtfeerekvwkug']\n",
      " ['zzzz']]\n",
      "Encoded labels:  [1 1 0 0 0]\n",
      "Decoded labels:  ['spam' 'spam' 'ham' 'ham' 'ham']\n"
     ]
    }
   ],
   "source": [
    "feature_extraction = CountVectorizer(min_df = 2)\n",
    "\n",
    "X_trainset_features= feature_extraction.fit_transform(X_trainset)\n",
    "X_testset_features = feature_extraction.transform(X_testset)\n",
    "\n",
    "feature_names = feature_extraction.get_feature_names_out(X_trainset_features)\n",
    "df = pd.DataFrame(feature_names).to_numpy()\n",
    "print(df)\n",
    "\n",
    "from sklearn.preprocessing import LabelEncoder\n",
    "#encoding the labels, this is done differently to avoid leakage and overfitting\n",
    "encode = LabelEncoder()\n",
    "Y_trainset = encode.fit_transform(Y_trainset)\n",
    "Y_testset = encode.fit_transform(Y_testset)\n",
    "\n",
    "Y_testset_decode = encode.inverse_transform(Y_testset)\n",
    "print('Encoded labels: ', Y_testset[0:5])\n",
    "print('Decoded labels: ', Y_testset_decode[0:5])"
   ]
  },
  {
   "cell_type": "markdown",
   "id": "c3d655c6",
   "metadata": {},
   "source": [
    "#### Models Training and Evaluation "
   ]
  },
  {
   "cell_type": "markdown",
   "id": "8b002bb4",
   "metadata": {},
   "source": [
    "#### Random Forest Classifier "
   ]
  },
  {
   "cell_type": "code",
   "execution_count": 20,
   "id": "4934abdd",
   "metadata": {},
   "outputs": [
    {
     "data": {
      "text/plain": [
       "RandomForestClassifier(n_jobs=-1,\n",
       "                       random_state=RandomState(MT19937) at 0x23455F38D40)"
      ]
     },
     "execution_count": 20,
     "metadata": {},
     "output_type": "execute_result"
    }
   ],
   "source": [
    "#training and fitting the model\n",
    "\n",
    "rng = np.random.RandomState(0)\n",
    "\n",
    "rf = RandomForestClassifier(n_estimators=100,n_jobs=-1, random_state = rng)\n",
    "\n",
    "rf.fit(X_trainset_features, Y_trainset)"
   ]
  },
  {
   "cell_type": "code",
   "execution_count": 21,
   "id": "ff2847a9",
   "metadata": {},
   "outputs": [
    {
     "name": "stdout",
     "output_type": "stream",
     "text": [
      "Accuracy on training data:  0.9997674688989653\n",
      "Accuracy on test data:  0.9843435126337002\n"
     ]
    }
   ],
   "source": [
    "#evaluating trained model\n",
    "rf_train =rf.predict(X_trainset_features)\n",
    "rf_train_acc = accuracy_score(Y_trainset, rf_train)\n",
    "\n",
    "print(\"Accuracy on training data: \" , rf_train_acc)\n",
    "\n",
    "#evaluating accuracy on test data\n",
    "rf_test = rf.predict(X_testset_features)\n",
    "rf_test_acc = accuracy_score(Y_testset,rf_test)\n",
    "\n",
    "print(\"Accuracy on test data: \" , rf_test_acc)"
   ]
  },
  {
   "cell_type": "code",
   "execution_count": 22,
   "id": "cfc31a46",
   "metadata": {},
   "outputs": [
    {
     "name": "stdout",
     "output_type": "stream",
     "text": [
      "              precision    recall  f1-score   support\n",
      "\n",
      "           0       0.98      0.99      0.98      3349\n",
      "           1       0.98      0.98      0.98      3102\n",
      "\n",
      "    accuracy                           0.98      6451\n",
      "   macro avg       0.98      0.98      0.98      6451\n",
      "weighted avg       0.98      0.98      0.98      6451\n",
      "\n"
     ]
    },
    {
     "data": {
      "text/plain": [
       "Text(0.5, 1.0, 'Random Forest Classifier Confusion Matrix - BoW')"
      ]
     },
     "execution_count": 22,
     "metadata": {},
     "output_type": "execute_result"
    },
    {
     "data": {
      "image/png": "[encoded data removed]",
      "text/plain": [
       "<Figure size 432x288 with 2 Axes>"
      ]
     },
     "metadata": {
      "needs_background": "light"
     },
     "output_type": "display_data"
    }
   ],
   "source": [
    "#Evaluating the classficiation\n",
    "rf_class_report = (classification_report(Y_testset, rf_test))\n",
    "print(rf_class_report)\n",
    "\n",
    "rf_CM = confusion_matrix(Y_testset, rf_test)\n",
    "sns.heatmap(rf_CM, annot = True, fmt='d', cmap='crest')\n",
    "plt.title(\"Random Forest Classifier Confusion Matrix - BoW\")"
   ]
  },
  {
   "cell_type": "code",
   "execution_count": 23,
   "id": "380a4e61",
   "metadata": {},
   "outputs": [
    {
     "data": {
      "image/png": "[encoded data removed]",
      "text/plain": [
       "<Figure size 432x288 with 1 Axes>"
      ]
     },
     "metadata": {
      "needs_background": "light"
     },
     "output_type": "display_data"
    }
   ],
   "source": [
    "#calculate ROC curve\n",
    "fpr, tpr, thresholds = roc_curve(Y_testset, rf_test)\n",
    "\n",
    "#calculating auc\n",
    "rf_auc = auc(fpr, tpr)\n",
    "\n",
    "plt.plot(fpr, tpr, color='darkorange', label='ROC curve (area = %0.2f)' % rf_auc)\n",
    "plt.plot([0, 1], [0, 1], \"k--\", label=\"chance level (AUC =0.5)\")\n",
    "plt.xlabel('False Positive Rate')\n",
    "plt.ylabel('True Positive Rate')\n",
    "plt.title('ROC Curve for Random Forest with BoW')\n",
    "plt.legend()\n",
    "plt.show()"
   ]
  },
  {
   "cell_type": "markdown",
   "id": "a5de1487",
   "metadata": {},
   "source": [
    "#### K Neighbor Classifier"
   ]
  },
  {
   "cell_type": "code",
   "execution_count": 24,
   "id": "97471e52",
   "metadata": {},
   "outputs": [
    {
     "data": {
      "text/plain": [
       "KNeighborsClassifier()"
      ]
     },
     "execution_count": 24,
     "metadata": {},
     "output_type": "execute_result"
    }
   ],
   "source": [
    "#training  and fitting the model\n",
    "knc= KNeighborsClassifier()\n",
    "\n",
    "\n",
    "knc.fit(X_trainset_features, Y_trainset)"
   ]
  },
  {
   "cell_type": "code",
   "execution_count": 25,
   "id": "93991b4e",
   "metadata": {},
   "outputs": [
    {
     "name": "stdout",
     "output_type": "stream",
     "text": [
      "Accuracy on training data:  0.9372166027206139\n",
      "Accuracy on test data:  0.9167570919237328\n"
     ]
    }
   ],
   "source": [
    "#evaluating trained model\n",
    "knc_train =knc.predict(X_trainset_features)\n",
    "knc_train_acc = accuracy_score(Y_trainset, knc_train)\n",
    "\n",
    "print(\"Accuracy on training data: \" , knc_train_acc)\n",
    "\n",
    "#evaluating accuracy on test data\n",
    "knc_test = knc.predict(X_testset_features)\n",
    "knc_test_acc = accuracy_score(Y_testset,knc_test)\n",
    "\n",
    "print(\"Accuracy on test data: \" , knc_test_acc)"
   ]
  },
  {
   "cell_type": "code",
   "execution_count": 26,
   "id": "1be0c522",
   "metadata": {},
   "outputs": [
    {
     "name": "stdout",
     "output_type": "stream",
     "text": [
      "              precision    recall  f1-score   support\n",
      "\n",
      "           0       0.95      0.89      0.92      3349\n",
      "           1       0.89      0.95      0.92      3102\n",
      "\n",
      "    accuracy                           0.92      6451\n",
      "   macro avg       0.92      0.92      0.92      6451\n",
      "weighted avg       0.92      0.92      0.92      6451\n",
      "\n"
     ]
    },
    {
     "data": {
      "text/plain": [
       "Text(0.5, 1.0, 'K-Neighbors Confusion Matrix - BoW')"
      ]
     },
     "execution_count": 26,
     "metadata": {},
     "output_type": "execute_result"
    },
    {
     "data": {
      "image/png": "[encoded data removed]",
      "text/plain": [
       "<Figure size 432x288 with 2 Axes>"
      ]
     },
     "metadata": {
      "needs_background": "light"
     },
     "output_type": "display_data"
    }
   ],
   "source": [
    "#Evaluating the classficiation \n",
    "#Evaluating the classficiation \n",
    "knc_class_report = (classification_report(Y_testset, knc_test))\n",
    "print(knc_class_report)\n",
    "\n",
    "knc_CM = confusion_matrix(Y_testset, knc_test)\n",
    "sns.heatmap(knc_CM, annot = True, fmt='d', cmap='crest')\n",
    "plt.title(\"K-Neighbors Confusion Matrix - BoW\")"
   ]
  },
  {
   "cell_type": "code",
   "execution_count": 27,
   "id": "33ef916f",
   "metadata": {},
   "outputs": [
    {
     "data": {
      "image/png": "[encoded data removed]",
      "text/plain": [
       "<Figure size 432x288 with 1 Axes>"
      ]
     },
     "metadata": {
      "needs_background": "light"
     },
     "output_type": "display_data"
    }
   ],
   "source": [
    "fpr, tpr, thresholds = roc_curve(Y_testset, knc_test)\n",
    "\n",
    "#calculating auc\n",
    "knc_auc = auc(fpr, tpr)\n",
    "\n",
    "plt.plot(fpr, tpr, color='darkorange', label='ROC curve (area = %0.2f)' % knc_auc)\n",
    "plt.plot([0, 1], [0, 1], \"k--\", label=\"chance level (AUC =0.5)\")\n",
    "plt.xlabel('False Positive Rate')\n",
    "plt.ylabel('True Positive Rate')\n",
    "plt.title('ROC Curve for KNN with BoW')\n",
    "plt.legend()\n",
    "plt.show()"
   ]
  },
  {
   "cell_type": "markdown",
   "id": "13ff8905",
   "metadata": {},
   "source": [
    "#### Decision Tree Classifier"
   ]
  },
  {
   "cell_type": "code",
   "execution_count": 28,
   "id": "c586be59",
   "metadata": {},
   "outputs": [
    {
     "data": {
      "text/plain": [
       "DecisionTreeClassifier()"
      ]
     },
     "execution_count": 28,
     "metadata": {},
     "output_type": "execute_result"
    }
   ],
   "source": [
    "dtc= DecisionTreeClassifier()\n",
    "\n",
    "#training the model\n",
    "dtc.fit(X_trainset_features, Y_trainset)"
   ]
  },
  {
   "cell_type": "code",
   "execution_count": 29,
   "id": "bbda4cc4",
   "metadata": {},
   "outputs": [
    {
     "name": "stdout",
     "output_type": "stream",
     "text": [
      "Accuracy on training data:  0.9997674688989653\n",
      "Accuracy on test data:  0.9536505968066966\n"
     ]
    }
   ],
   "source": [
    "#evaluating trained model\n",
    "dtc_train =dtc.predict(X_trainset_features)\n",
    "dtc_train_acc = accuracy_score(Y_trainset, dtc_train)\n",
    "\n",
    "print(\"Accuracy on training data: \" , dtc_train_acc)\n",
    "\n",
    "#evaluating accuracy on test data\n",
    "dtc_test = dtc.predict(X_testset_features)\n",
    "dtc_test_acc = accuracy_score(Y_testset,dtc_test)\n",
    "\n",
    "print(\"Accuracy on test data: \" , dtc_test_acc)"
   ]
  },
  {
   "cell_type": "code",
   "execution_count": 30,
   "id": "2d680331",
   "metadata": {},
   "outputs": [
    {
     "name": "stdout",
     "output_type": "stream",
     "text": [
      "              precision    recall  f1-score   support\n",
      "\n",
      "           0       0.95      0.96      0.96      3349\n",
      "           1       0.95      0.95      0.95      3102\n",
      "\n",
      "    accuracy                           0.95      6451\n",
      "   macro avg       0.95      0.95      0.95      6451\n",
      "weighted avg       0.95      0.95      0.95      6451\n",
      "\n"
     ]
    },
    {
     "data": {
      "text/plain": [
       "Text(0.5, 1.0, 'Decision Tree Classifier Confusion Matrix - BoW')"
      ]
     },
     "execution_count": 30,
     "metadata": {},
     "output_type": "execute_result"
    },
    {
     "data": {
      "image/png": "[encoded data removed]",
      "text/plain": [
       "<Figure size 432x288 with 2 Axes>"
      ]
     },
     "metadata": {
      "needs_background": "light"
     },
     "output_type": "display_data"
    }
   ],
   "source": [
    "#Evaluating the classficiation \n",
    "#Evaluating the classficiation \n",
    "dtc_class_report = (classification_report(Y_testset, dtc_test))\n",
    "print(dtc_class_report)\n",
    "\n",
    "dtc_CM = confusion_matrix(Y_testset, dtc_test)\n",
    "sns.heatmap(dtc_CM, annot = True, fmt='d', cmap='crest')\n",
    "plt.title(\"Decision Tree Classifier Confusion Matrix - BoW\")"
   ]
  },
  {
   "cell_type": "code",
   "execution_count": 31,
   "id": "4fd08b54",
   "metadata": {},
   "outputs": [
    {
     "data": {
      "image/png": "[encoded data removed]",
      "text/plain": [
       "<Figure size 432x288 with 1 Axes>"
      ]
     },
     "metadata": {
      "needs_background": "light"
     },
     "output_type": "display_data"
    }
   ],
   "source": [
    "fpr, tpr, thresholds = roc_curve(Y_testset, dtc_test)\n",
    "\n",
    "#calculating auc\n",
    "dtc_auc = auc(fpr, tpr)\n",
    "\n",
    "plt.plot(fpr, tpr, color='darkorange', label='ROC curve (area = %0.2f)' % dtc_auc)\n",
    "plt.plot([0, 1], [0, 1], \"k--\", label=\"chance level (AUC =0.5)\")\n",
    "plt.xlabel('False Positive Rate')\n",
    "plt.ylabel('True Positive Rate')\n",
    "plt.title('ROC Curve for Decision Tree with BoW')\n",
    "plt.legend()\n",
    "plt.show()"
   ]
  },
  {
   "cell_type": "markdown",
   "id": "e6a48b73",
   "metadata": {},
   "source": [
    "#### Support Vector Machine"
   ]
  },
  {
   "cell_type": "code",
   "execution_count": 34,
   "id": "33eaaee8",
   "metadata": {},
   "outputs": [
    {
     "data": {
      "text/plain": [
       "SVC()"
      ]
     },
     "execution_count": 34,
     "metadata": {},
     "output_type": "execute_result"
    }
   ],
   "source": [
    "#the parmeter is set to linear since simple SVM can only classfy linealry seperable data\n",
    "svm = SVC(kernel = 'linear', C = 1, gamma = 'scale')\n",
    "\n",
    "#training the model\n",
    "svm.fit(X_trainset_features, Y_trainset)"
   ]
  },
  {
   "cell_type": "code",
   "execution_count": 35,
   "id": "bf4d098e",
   "metadata": {},
   "outputs": [
    {
     "name": "stdout",
     "output_type": "stream",
     "text": [
      "Accuracy on training data:  0.9752741929233035\n",
      "Accuracy on test data:  0.9663618043714153\n"
     ]
    }
   ],
   "source": [
    "#evaluating trained model\n",
    "svm_train =svm.predict(X_trainset_features)\n",
    "svm_train_acc = accuracy_score(Y_trainset, svm_train)\n",
    "\n",
    "print(\"Accuracy on training data: \" , svm_train_acc)\n",
    "\n",
    "#evaluating accuracy on test data\n",
    "svm_test = svm.predict(X_testset_features)\n",
    "svm_test_acc = accuracy_score(Y_testset,svm_test)\n",
    "\n",
    "print(\"Accuracy on test data: \" , svm_test_acc)"
   ]
  },
  {
   "cell_type": "code",
   "execution_count": 36,
   "id": "22dddb3b",
   "metadata": {},
   "outputs": [
    {
     "name": "stdout",
     "output_type": "stream",
     "text": [
      "              precision    recall  f1-score   support\n",
      "\n",
      "           0       0.99      0.95      0.97      3349\n",
      "           1       0.95      0.99      0.97      3102\n",
      "\n",
      "    accuracy                           0.97      6451\n",
      "   macro avg       0.97      0.97      0.97      6451\n",
      "weighted avg       0.97      0.97      0.97      6451\n",
      "\n"
     ]
    },
    {
     "data": {
      "text/plain": [
       "Text(0.5, 1.0, 'Support Vector Machine Confusion Matrix - BoW')"
      ]
     },
     "execution_count": 36,
     "metadata": {},
     "output_type": "execute_result"
    },
    {
     "data": {
      "image/png": "[encoded data removed]",
      "text/plain": [
       "<Figure size 432x288 with 2 Axes>"
      ]
     },
     "metadata": {
      "needs_background": "light"
     },
     "output_type": "display_data"
    }
   ],
   "source": [
    "#Evaluating the classficiation \n",
    "svm_class_report = (classification_report(Y_testset, svm_test))\n",
    "print(svm_class_report)\n",
    "\n",
    "svm_CM = confusion_matrix(Y_testset, svm_test)\n",
    "sns.heatmap(svm_CM, annot = True, fmt='d', cmap='crest')\n",
    "plt.title(\"Support Vector Machine Confusion Matrix - BoW\")"
   ]
  },
  {
   "cell_type": "code",
   "execution_count": 37,
   "id": "886ff909",
   "metadata": {},
   "outputs": [
    {
     "data": {
      "image/png": "[encoded data removed]",
      "text/plain": [
       "<Figure size 432x288 with 1 Axes>"
      ]
     },
     "metadata": {
      "needs_background": "light"
     },
     "output_type": "display_data"
    }
   ],
   "source": [
    "fpr, tpr, thresholds = roc_curve(Y_testset, svm_test)\n",
    "\n",
    "#calculating auc\n",
    "svm_auc = auc(fpr, tpr)\n",
    "\n",
    "plt.plot(fpr, tpr, color='darkorange', label='ROC curve (area = %0.2f)' % svm_auc)\n",
    "plt.plot([0, 1], [0, 1], \"k--\", label=\"chance level (AUC =0.5)\")\n",
    "plt.xlabel('False Positive Rate')\n",
    "plt.ylabel('True Positive Rate')\n",
    "plt.title('ROC Curve for Support Vector Machine with BoW')\n",
    "plt.legend()\n",
    "plt.show()"
   ]
  },
  {
   "cell_type": "markdown",
   "id": "5faddc21",
   "metadata": {},
   "source": [
    "#### Logistic Regression"
   ]
  },
  {
   "cell_type": "code",
   "execution_count": 38,
   "id": "ce35bbdf",
   "metadata": {},
   "outputs": [
    {
     "name": "stderr",
     "output_type": "stream",
     "text": [
      "C:\\Users\\E7470\\anaconda3\\lib\\site-packages\\sklearn\\linear_model\\_logistic.py:814: ConvergenceWarning: lbfgs failed to converge (status=1):\n",
      "STOP: TOTAL NO. of ITERATIONS REACHED LIMIT.\n",
      "\n",
      "Increase the number of iterations (max_iter) or scale the data as shown in:\n",
      "    https://scikit-learn.org/stable/modules/preprocessing.html\n",
      "Please also refer to the documentation for alternative solver options:\n",
      "    https://scikit-learn.org/stable/modules/linear_model.html#logistic-regression\n",
      "  n_iter_i = _check_optimize_result(\n"
     ]
    },
    {
     "data": {
      "text/plain": [
       "LogisticRegression()"
      ]
     },
     "execution_count": 38,
     "metadata": {},
     "output_type": "execute_result"
    }
   ],
   "source": [
    "lr = LogisticRegression()\n",
    "\n",
    "#training the model\n",
    "lr.fit(X_trainset_features, Y_trainset)"
   ]
  },
  {
   "cell_type": "code",
   "execution_count": 39,
   "id": "63d3dc50",
   "metadata": {},
   "outputs": [
    {
     "name": "stdout",
     "output_type": "stream",
     "text": [
      "Accuracy on training data:  0.9980622408247103\n",
      "Accuracy on test data:  0.9857386451712913\n"
     ]
    }
   ],
   "source": [
    "#evaluating trained model\n",
    "lr_train = lr.predict(X_trainset_features)\n",
    "lr_train_acc = accuracy_score(Y_trainset, lr_train)\n",
    "\n",
    "print(\"Accuracy on training data: \" , lr_train_acc)\n",
    "\n",
    "#evaluating accuracy on test data\n",
    "lr_test = lr.predict(X_testset_features)\n",
    "lr_test_acc = accuracy_score(Y_testset, lr_test)\n",
    "\n",
    "print(\"Accuracy on test data: \" , lr_test_acc)"
   ]
  },
  {
   "cell_type": "code",
   "execution_count": 40,
   "id": "46cb688f",
   "metadata": {},
   "outputs": [
    {
     "name": "stdout",
     "output_type": "stream",
     "text": [
      "              precision    recall  f1-score   support\n",
      "\n",
      "           0       0.99      0.98      0.99      3349\n",
      "           1       0.98      0.99      0.99      3102\n",
      "\n",
      "    accuracy                           0.99      6451\n",
      "   macro avg       0.99      0.99      0.99      6451\n",
      "weighted avg       0.99      0.99      0.99      6451\n",
      "\n"
     ]
    },
    {
     "data": {
      "text/plain": [
       "Text(0.5, 1.0, 'Logistic Regression Confusion Matrix - BoW')"
      ]
     },
     "execution_count": 40,
     "metadata": {},
     "output_type": "execute_result"
    },
    {
     "data": {
      "image/png": "[encoded data removed]",
      "text/plain": [
       "<Figure size 432x288 with 2 Axes>"
      ]
     },
     "metadata": {
      "needs_background": "light"
     },
     "output_type": "display_data"
    }
   ],
   "source": [
    "#Evaluating the classficiation \n",
    "lr_class_report = (classification_report(Y_testset, lr_test))\n",
    "print(lr_class_report)\n",
    "\n",
    "lr_CM = confusion_matrix(Y_testset, lr_test)\n",
    "sns.heatmap(lr_CM, annot = True, fmt='d', cmap='crest')\n",
    "plt.title(\"Logistic Regression Confusion Matrix - BoW\")"
   ]
  },
  {
   "cell_type": "code",
   "execution_count": 41,
   "id": "5da6a9f6",
   "metadata": {},
   "outputs": [
    {
     "data": {
      "image/png": "[encoded data removed]",
      "text/plain": [
       "<Figure size 432x288 with 1 Axes>"
      ]
     },
     "metadata": {
      "needs_background": "light"
     },
     "output_type": "display_data"
    }
   ],
   "source": [
    "fpr, tpr, thresholds = roc_curve(Y_testset, lr_test)\n",
    "\n",
    "#calculating auc\n",
    "lr_auc = auc(fpr, tpr)\n",
    "\n",
    "plt.plot(fpr, tpr, color='darkorange', label='ROC curve (area = %0.2f)' % lr_auc)\n",
    "plt.plot([0, 1], [0, 1], \"k--\", label=\"chance level (AUC =0.5)\")\n",
    "plt.xlabel('False Positive Rate')\n",
    "plt.ylabel('True Positive Rate')\n",
    "plt.title('ROC Curve for Logistic Regression with BoW')\n",
    "plt.legend()\n",
    "plt.show()"
   ]
  },
  {
   "cell_type": "markdown",
   "id": "8ce257fe",
   "metadata": {},
   "source": [
    "#### XGBoost"
   ]
  },
  {
   "cell_type": "code",
   "execution_count": 42,
   "id": "3263dc02",
   "metadata": {},
   "outputs": [
    {
     "data": {
      "text/plain": [
       "XGBClassifier(base_score=None, booster=None, callbacks=None,\n",
       "              colsample_bylevel=None, colsample_bynode=None,\n",
       "              colsample_bytree=None, early_stopping_rounds=None,\n",
       "              enable_categorical=False, eval_metric=None, feature_types=None,\n",
       "              gamma=None, gpu_id=None, grow_policy=None, importance_type=None,\n",
       "              interaction_constraints=None, learning_rate=None, max_bin=None,\n",
       "              max_cat_threshold=None, max_cat_to_onehot=None,\n",
       "              max_delta_step=None, max_depth=None, max_leaves=None,\n",
       "              min_child_weight=None, missing=nan, monotone_constraints=None,\n",
       "              n_estimators=100, n_jobs=None, num_parallel_tree=None,\n",
       "              predictor=None, random_state=None, ...)"
      ]
     },
     "execution_count": 42,
     "metadata": {},
     "output_type": "execute_result"
    }
   ],
   "source": [
    "xgb = XGBClassifier()\n",
    "\n",
    "#training the model\n",
    "xgb.fit(X_trainset_features, Y_trainset)"
   ]
  },
  {
   "cell_type": "code",
   "execution_count": 43,
   "id": "3d55cfbc",
   "metadata": {},
   "outputs": [
    {
     "name": "stdout",
     "output_type": "stream",
     "text": [
      "Accuracy on training data:  0.9850017439832578\n",
      "Accuracy on test data:  0.9787629824833359\n"
     ]
    }
   ],
   "source": [
    "#evaluating trained model\n",
    "xgb_train = xgb.predict(X_trainset_features)\n",
    "xgb_train_acc = accuracy_score(Y_trainset, xgb_train)\n",
    "\n",
    "print(\"Accuracy on training data: \" , xgb_train_acc)\n",
    "\n",
    "#evaluating accuracy on test data\n",
    "xgb_test = xgb.predict(X_testset_features)\n",
    "xgb_test_acc = accuracy_score(Y_testset,xgb_test)\n",
    "\n",
    "print(\"Accuracy on test data: \" , xgb_test_acc)"
   ]
  },
  {
   "cell_type": "code",
   "execution_count": 44,
   "id": "1c2b4124",
   "metadata": {},
   "outputs": [
    {
     "name": "stdout",
     "output_type": "stream",
     "text": [
      "              precision    recall  f1-score   support\n",
      "\n",
      "           0       0.99      0.97      0.98      3349\n",
      "           1       0.96      0.99      0.98      3102\n",
      "\n",
      "    accuracy                           0.98      6451\n",
      "   macro avg       0.98      0.98      0.98      6451\n",
      "weighted avg       0.98      0.98      0.98      6451\n",
      "\n"
     ]
    },
    {
     "data": {
      "text/plain": [
       "Text(0.5, 1.0, 'XGBoost Confusion Matrix - BoW')"
      ]
     },
     "execution_count": 44,
     "metadata": {},
     "output_type": "execute_result"
    },
    {
     "data": {
      "image/png": "[encoded data removed]",
      "text/plain": [
       "<Figure size 432x288 with 2 Axes>"
      ]
     },
     "metadata": {
      "needs_background": "light"
     },
     "output_type": "display_data"
    }
   ],
   "source": [
    "#Evaluating the classficiation \n",
    "xgb_class_report = (classification_report(Y_testset, xgb_test))\n",
    "print(xgb_class_report)\n",
    "\n",
    "xgb_CM = confusion_matrix(Y_testset, xgb_test)\n",
    "sns.heatmap(xgb_CM, annot = True, fmt='d', cmap='crest')\n",
    "plt.title(\"XGBoost Confusion Matrix - BoW\")"
   ]
  },
  {
   "cell_type": "code",
   "execution_count": 45,
   "id": "acb4432b",
   "metadata": {},
   "outputs": [
    {
     "data": {
      "image/png": "[encoded data removed]",
      "text/plain": [
       "<Figure size 432x288 with 1 Axes>"
      ]
     },
     "metadata": {
      "needs_background": "light"
     },
     "output_type": "display_data"
    }
   ],
   "source": [
    "fpr, tpr, thresholds = roc_curve(Y_testset, xgb_test)\n",
    "\n",
    "#calculating auc\n",
    "xgb_auc = auc(fpr, tpr)\n",
    "\n",
    "plt.plot(fpr, tpr, color='darkorange', label='ROC curve (area = %0.2f)' % xgb_auc)\n",
    "plt.plot([0, 1], [0, 1], \"k--\", label=\"chance level (AUC =0.5)\")\n",
    "plt.xlabel('False Positive Rate')\n",
    "plt.ylabel('True Positive Rate')\n",
    "plt.title('ROC Curve for XGBoost with BoW')\n",
    "plt.legend()\n",
    "plt.show()"
   ]
  },
  {
   "cell_type": "markdown",
   "id": "48e6d22e",
   "metadata": {},
   "source": [
    "#### AdaBoostClassifier"
   ]
  },
  {
   "cell_type": "code",
   "execution_count": 46,
   "id": "a5dc7164",
   "metadata": {},
   "outputs": [
    {
     "data": {
      "text/plain": [
       "AdaBoostClassifier()"
      ]
     },
     "execution_count": 46,
     "metadata": {},
     "output_type": "execute_result"
    }
   ],
   "source": [
    "adb = AdaBoostClassifier()\n",
    "\n",
    "#training the model\n",
    "adb.fit(X_trainset_features, Y_trainset)"
   ]
  },
  {
   "cell_type": "code",
   "execution_count": 47,
   "id": "b69423bd",
   "metadata": {},
   "outputs": [
    {
     "name": "stdout",
     "output_type": "stream",
     "text": [
      "Accuracy on training data:  0.9850017439832578\n",
      "Accuracy on test data:  0.9431095954115641\n"
     ]
    }
   ],
   "source": [
    "#evaluating trained model\n",
    "adb_train = xgb.predict(X_trainset_features)\n",
    "adb_train_acc = accuracy_score(Y_trainset, adb_train)\n",
    "\n",
    "print(\"Accuracy on training data: \" , adb_train_acc)\n",
    "\n",
    "#evaluating accuracy on test data\n",
    "adb_test = adb.predict(X_testset_features)\n",
    "adb_test_acc = accuracy_score(Y_testset,adb_test)\n",
    "\n",
    "print(\"Accuracy on test data: \" , adb_test_acc)"
   ]
  },
  {
   "cell_type": "code",
   "execution_count": 48,
   "id": "a8a16ebe",
   "metadata": {},
   "outputs": [
    {
     "name": "stdout",
     "output_type": "stream",
     "text": [
      "              precision    recall  f1-score   support\n",
      "\n",
      "           0       0.96      0.93      0.94      3349\n",
      "           1       0.93      0.96      0.94      3102\n",
      "\n",
      "    accuracy                           0.94      6451\n",
      "   macro avg       0.94      0.94      0.94      6451\n",
      "weighted avg       0.94      0.94      0.94      6451\n",
      "\n"
     ]
    },
    {
     "data": {
      "text/plain": [
       "Text(0.5, 1.0, 'AdaBoost Confusion Matrix - BoW')"
      ]
     },
     "execution_count": 48,
     "metadata": {},
     "output_type": "execute_result"
    },
    {
     "data": {
      "image/png": "[encoded data removed]",
      "text/plain": [
       "<Figure size 432x288 with 2 Axes>"
      ]
     },
     "metadata": {
      "needs_background": "light"
     },
     "output_type": "display_data"
    }
   ],
   "source": [
    "#Evaluating the classficiation \n",
    "adb_class_report = (classification_report(Y_testset, adb_test))\n",
    "print(adb_class_report)\n",
    "\n",
    "adb_CM = confusion_matrix(Y_testset, adb_test)\n",
    "sns.heatmap(adb_CM, annot = True, fmt='d', cmap='crest')\n",
    "plt.title(\"AdaBoost Confusion Matrix - BoW\")"
   ]
  },
  {
   "cell_type": "code",
   "execution_count": 49,
   "id": "157510b8",
   "metadata": {},
   "outputs": [
    {
     "data": {
      "image/png": "[encoded data removed]",
      "text/plain": [
       "<Figure size 432x288 with 1 Axes>"
      ]
     },
     "metadata": {
      "needs_background": "light"
     },
     "output_type": "display_data"
    }
   ],
   "source": [
    "fpr, tpr, thresholds = roc_curve(Y_testset, adb_test)\n",
    "\n",
    "#calculating auc\n",
    "adb_auc = auc(fpr, tpr)\n",
    "\n",
    "plt.plot(fpr, tpr, color='darkorange', label='ROC curve (area = %0.2f)' % adb_auc)\n",
    "plt.plot([0, 1], [0, 1], \"k--\", label=\"chance level (AUC =0.5)\")\n",
    "plt.xlabel('False Positive Rate')\n",
    "plt.ylabel('True Positive Rate')\n",
    "plt.title('ROC Curve for AdaBoost with BoW')\n",
    "plt.legend()\n",
    "plt.show()"
   ]
  },
  {
   "cell_type": "markdown",
   "id": "deb41511",
   "metadata": {},
   "source": [
    "#### Neural Network "
   ]
  },
  {
   "cell_type": "code",
   "execution_count": 50,
   "id": "f1f93405",
   "metadata": {},
   "outputs": [
    {
     "data": {
      "text/plain": [
       "MLPClassifier()"
      ]
     },
     "execution_count": 50,
     "metadata": {},
     "output_type": "execute_result"
    }
   ],
   "source": [
    "nn = MLPClassifier()\n",
    "\n",
    "#training the nn model\n",
    "nn.fit(X_trainset_features, Y_trainset)"
   ]
  },
  {
   "cell_type": "code",
   "execution_count": 51,
   "id": "d711df6e",
   "metadata": {},
   "outputs": [
    {
     "name": "stdout",
     "output_type": "stream",
     "text": [
      "Accuracy on training data:  0.9997674688989653\n",
      "Accuracy on test data:  0.9841884979073012\n"
     ]
    }
   ],
   "source": [
    "#evaluating nn trained model\n",
    "nn_train = nn.predict(X_trainset_features)\n",
    "nn_train_acc = accuracy_score(Y_trainset, nn_train)\n",
    "\n",
    "print(\"Accuracy on training data: \" , nn_train_acc)\n",
    "\n",
    "#evaluating nn accuracy on test data\n",
    "nn_test = nn.predict(X_testset_features)\n",
    "nn_test_acc = accuracy_score(Y_testset,nn_test)\n",
    "\n",
    "print(\"Accuracy on test data: \" , nn_test_acc)"
   ]
  },
  {
   "cell_type": "code",
   "execution_count": 52,
   "id": "8cfc14e2",
   "metadata": {},
   "outputs": [
    {
     "name": "stdout",
     "output_type": "stream",
     "text": [
      "              precision    recall  f1-score   support\n",
      "\n",
      "           0       0.99      0.98      0.98      3349\n",
      "           1       0.98      0.99      0.98      3102\n",
      "\n",
      "    accuracy                           0.98      6451\n",
      "   macro avg       0.98      0.98      0.98      6451\n",
      "weighted avg       0.98      0.98      0.98      6451\n",
      "\n"
     ]
    },
    {
     "data": {
      "text/plain": [
       "Text(0.5, 1.0, 'Neural Network Confusion Matrix - BoW')"
      ]
     },
     "execution_count": 52,
     "metadata": {},
     "output_type": "execute_result"
    },
    {
     "data": {
      "image/png": "[encoded data removed]",
      "text/plain": [
       "<Figure size 432x288 with 2 Axes>"
      ]
     },
     "metadata": {
      "needs_background": "light"
     },
     "output_type": "display_data"
    }
   ],
   "source": [
    "#Evaluating the classficiation \n",
    "nn_class_report = (classification_report(Y_testset, nn_test))\n",
    "print(nn_class_report)\n",
    "\n",
    "nn_CM = confusion_matrix(Y_testset, nn_test)\n",
    "sns.heatmap(adb_CM, annot = True, fmt='d', cmap='Reds')\n",
    "plt.title(\"Neural Network Confusion Matrix - BoW\")"
   ]
  },
  {
   "cell_type": "code",
   "execution_count": 53,
   "id": "2058a7f3",
   "metadata": {},
   "outputs": [
    {
     "data": {
      "image/png": "[encoded data removed]",
      "text/plain": [
       "<Figure size 432x288 with 1 Axes>"
      ]
     },
     "metadata": {
      "needs_background": "light"
     },
     "output_type": "display_data"
    }
   ],
   "source": [
    "fpr, tpr, thresholds = roc_curve(Y_testset, nn_test)\n",
    "\n",
    "#calculating auc\n",
    "nn_auc = auc(fpr, tpr)\n",
    "\n",
    "plt.plot(fpr, tpr, color='darkorange', label='ROC curve (area = %0.2f)' % nn_auc)\n",
    "plt.plot([0, 1], [0, 1], \"k--\", label=\"chance level (AUC =0.5)\")\n",
    "plt.xlabel('False Positive Rate')\n",
    "plt.ylabel('True Positive Rate')\n",
    "plt.title('ROC Curve for Neural Network with BoW')\n",
    "plt.legend()\n",
    "plt.show()"
   ]
  },
  {
   "cell_type": "code",
   "execution_count": 54,
   "id": "4ff8a531",
   "metadata": {},
   "outputs": [
    {
     "name": "stdout",
     "output_type": "stream",
     "text": [
      "Classification report for Random Forest(RF): with BoW\n",
      "              precision    recall  f1-score   support\n",
      "\n",
      "           0       0.98      0.98      0.98      3349\n",
      "           1       0.98      0.98      0.98      3102\n",
      "\n",
      "    accuracy                           0.98      6451\n",
      "   macro avg       0.98      0.98      0.98      6451\n",
      "weighted avg       0.98      0.98      0.98      6451\n",
      "\n",
      "Classification report for K Nearest Neighbors (KNN): with BoW\n",
      "              precision    recall  f1-score   support\n",
      "\n",
      "           0       0.95      0.89      0.92      3349\n",
      "           1       0.89      0.95      0.92      3102\n",
      "\n",
      "    accuracy                           0.92      6451\n",
      "   macro avg       0.92      0.92      0.92      6451\n",
      "weighted avg       0.92      0.92      0.92      6451\n",
      "\n",
      "Classification report for Decision Tree (DT): with BoW\n",
      "              precision    recall  f1-score   support\n",
      "\n",
      "           0       0.95      0.96      0.95      3349\n",
      "           1       0.95      0.94      0.95      3102\n",
      "\n",
      "    accuracy                           0.95      6451\n",
      "   macro avg       0.95      0.95      0.95      6451\n",
      "weighted avg       0.95      0.95      0.95      6451\n",
      "\n",
      "Classification report for Support Vector (SV): with BoW\n",
      "              precision    recall  f1-score   support\n",
      "\n",
      "           0       0.99      0.95      0.97      3349\n",
      "           1       0.95      0.99      0.97      3102\n",
      "\n",
      "    accuracy                           0.97      6451\n",
      "   macro avg       0.97      0.97      0.97      6451\n",
      "weighted avg       0.97      0.97      0.97      6451\n",
      "\n",
      "Classification report for Logistics Regression (LR): with BoW\n",
      "              precision    recall  f1-score   support\n",
      "\n",
      "           0       0.99      0.98      0.99      3349\n",
      "           1       0.98      0.99      0.99      3102\n",
      "\n",
      "    accuracy                           0.99      6451\n",
      "   macro avg       0.99      0.99      0.99      6451\n",
      "weighted avg       0.99      0.99      0.99      6451\n",
      "\n",
      "Classification report for XGBOOST (XGB): with BoW\n",
      "              precision    recall  f1-score   support\n",
      "\n",
      "           0       0.99      0.97      0.98      3349\n",
      "           1       0.96      0.99      0.98      3102\n",
      "\n",
      "    accuracy                           0.98      6451\n",
      "   macro avg       0.98      0.98      0.98      6451\n",
      "weighted avg       0.98      0.98      0.98      6451\n",
      "\n",
      "Classification report for AdaBoost (ADB): with BoW\n",
      "              precision    recall  f1-score   support\n",
      "\n",
      "           0       0.96      0.93      0.94      3349\n",
      "           1       0.93      0.96      0.94      3102\n",
      "\n",
      "    accuracy                           0.94      6451\n",
      "   macro avg       0.94      0.94      0.94      6451\n",
      "weighted avg       0.94      0.94      0.94      6451\n",
      "\n",
      "Classification report for Neural Network (NN): with BoW\n",
      "              precision    recall  f1-score   support\n",
      "\n",
      "           0       0.99      0.98      0.98      3349\n",
      "           1       0.98      0.99      0.98      3102\n",
      "\n",
      "    accuracy                           0.98      6451\n",
      "   macro avg       0.98      0.98      0.98      6451\n",
      "weighted avg       0.98      0.98      0.98      6451\n",
      "\n"
     ]
    }
   ],
   "source": [
    "for_models_predicted = ['Random Forest(RF)','K Nearest Neighbors (KNN)','Decision Tree (DT)',\n",
    "                   'Support Vector (SV)', 'Logistics Regression (LR)','XGBOOST (XGB)','AdaBoost (ADB)',\n",
    "                    'Neural Network (NN)']\n",
    "classification_reports = [rf_class_report, knc_class_report, dtc_class_report, svm_class_report,\n",
    "                       lr_class_report, xgb_class_report, adb_class_report, nn_class_report]\n",
    "\n",
    "for i, model_name in enumerate(for_models_predicted):\n",
    "    print(f\"Classification report for {model_name}: with BoW\")\n",
    "    print(classification_reports[i])"
   ]
  },
  {
   "cell_type": "markdown",
   "id": "ce5d07f4",
   "metadata": {},
   "source": [
    "#### Implementing GridSearch for SVM "
   ]
  },
  {
   "cell_type": "code",
   "execution_count": 55,
   "id": "a051618a",
   "metadata": {},
   "outputs": [
    {
     "name": "stdout",
     "output_type": "stream",
     "text": [
      "[LibSVM]Accuracy on test data:  0.9781429235777399\n",
      "              precision    recall  f1-score   support\n",
      "\n",
      "           0       0.99      0.97      0.98      3349\n",
      "           1       0.97      0.99      0.98      3102\n",
      "\n",
      "    accuracy                           0.98      6451\n",
      "   macro avg       0.98      0.98      0.98      6451\n",
      "weighted avg       0.98      0.98      0.98      6451\n",
      "\n"
     ]
    },
    {
     "data": {
      "text/plain": [
       "Text(0.5, 1.0, 'Support Vector Machine Confusion Matrix with GridSearch - BoW')"
      ]
     },
     "execution_count": 55,
     "metadata": {},
     "output_type": "execute_result"
    },
    {
     "data": {
      "image/png": "[encoded data removed]",
      "text/plain": [
       "<Figure size 432x288 with 2 Axes>"
      ]
     },
     "metadata": {
      "needs_background": "light"
     },
     "output_type": "display_data"
    }
   ],
   "source": [
    "svc_gr = SVC(class_weight='balanced',probability=True, verbose=True)\n",
    "parameters = {'C':[0.1, 1, 10]}\n",
    "clf_svc = GridSearchCV(svc_gr, parameters, cv = 5, n_jobs = -1).fit(X_trainset_features, Y_trainset)\n",
    "\n",
    "clf_svc.best_params_\n",
    "\n",
    "clf_svc.best_estimator_\n",
    "\n",
    "clf_svc_pred = clf_svc.predict(X_testset_features)\n",
    "svc_detect = accuracy_score(Y_testset, clf_svc_pred)\n",
    "\n",
    "print(\"Accuracy on test data: \" , svc_detect)\n",
    "\n",
    "#Evaluating the classficiation \n",
    "print(classification_report(Y_testset, clf_svc_pred))\n",
    "\n",
    "clf_svc_CM = confusion_matrix(Y_testset, clf_svc_pred)\n",
    "sns.heatmap(clf_svc_CM, annot = True, fmt='d', cmap='crest')\n",
    "plt.title(\"Support Vector Machine Confusion Matrix with GridSearch - BoW\")"
   ]
  },
  {
   "cell_type": "code",
   "execution_count": 57,
   "id": "8c708211",
   "metadata": {},
   "outputs": [
    {
     "data": {
      "image/png": "[encoded data removed]",
      "text/plain": [
       "<Figure size 432x288 with 1 Axes>"
      ]
     },
     "metadata": {
      "needs_background": "light"
     },
     "output_type": "display_data"
    }
   ],
   "source": [
    "fpr, tpr, thresholds = roc_curve(Y_testset, clf_svc_pred)\n",
    "\n",
    "#calculating auc\n",
    "clf_svc_auc = auc(fpr, tpr)\n",
    "\n",
    "plt.plot(fpr, tpr, color='darkorange', label='ROC curve (area = %0.2f)' % clf_svc_auc)\n",
    "plt.plot([0, 1], [0, 1], \"k--\", label=\"chance level (AUC =0.5)\")\n",
    "plt.xlabel('False Positive Rate')\n",
    "plt.ylabel('True Positive Rate')\n",
    "plt.title('ROC Curve for GridSearch Logistic Regression with BoW')\n",
    "plt.legend()\n",
    "plt.show()"
   ]
  },
  {
   "cell_type": "markdown",
   "id": "184b8528",
   "metadata": {},
   "source": [
    "#### Implementing GridSearch with Logistic Regression"
   ]
  },
  {
   "cell_type": "code",
   "execution_count": 58,
   "id": "f6a1d6f6",
   "metadata": {},
   "outputs": [
    {
     "name": "stderr",
     "output_type": "stream",
     "text": [
      "C:\\Users\\E7470\\anaconda3\\lib\\site-packages\\sklearn\\linear_model\\_logistic.py:814: ConvergenceWarning: lbfgs failed to converge (status=1):\n",
      "STOP: TOTAL NO. of ITERATIONS REACHED LIMIT.\n",
      "\n",
      "Increase the number of iterations (max_iter) or scale the data as shown in:\n",
      "    https://scikit-learn.org/stable/modules/preprocessing.html\n",
      "Please also refer to the documentation for alternative solver options:\n",
      "    https://scikit-learn.org/stable/modules/linear_model.html#logistic-regression\n",
      "  n_iter_i = _check_optimize_result(\n"
     ]
    },
    {
     "name": "stdout",
     "output_type": "stream",
     "text": [
      "Accuracy on test data:  0.9857386451712913\n",
      "              precision    recall  f1-score   support\n",
      "\n",
      "           0       0.99      0.98      0.99      3349\n",
      "           1       0.98      0.99      0.99      3102\n",
      "\n",
      "    accuracy                           0.99      6451\n",
      "   macro avg       0.99      0.99      0.99      6451\n",
      "weighted avg       0.99      0.99      0.99      6451\n",
      "\n"
     ]
    },
    {
     "data": {
      "text/plain": [
       "Text(0.5, 1.0, 'Logistic Regression Confusion Matrix with GridSearch - BoW')"
      ]
     },
     "execution_count": 58,
     "metadata": {},
     "output_type": "execute_result"
    },
    {
     "data": {
      "image/png": "[encoded data removed]",
      "text/plain": [
       "<Figure size 432x288 with 2 Axes>"
      ]
     },
     "metadata": {
      "needs_background": "light"
     },
     "output_type": "display_data"
    }
   ],
   "source": [
    "lr_Gs = LogisticRegression(max_iter = 20000, solver = 'lbfgs', class_weight = 'balanced' )\n",
    "param = {'C':[0.001, 0.01, 0.1, 1, 10, 100]}\n",
    "clf_lr = GridSearchCV(lr, param_grid= param, cv = 5, n_jobs = -1).fit(X_trainset_features, Y_trainset)\n",
    "\n",
    "clf_lr.best_params_\n",
    "\n",
    "clf_lr.best_estimator_\n",
    "\n",
    "clf_lr_pred = clf_lr.predict(X_testset_features)\n",
    "lr_detect = accuracy_score(Y_testset, clf_lr_pred)\n",
    "\n",
    "print(\"Accuracy on test data: \" , lr_detect)\n",
    "\n",
    "#Evaluating the classficiation \n",
    "print(classification_report(Y_testset, clf_lr_pred))\n",
    "\n",
    "clf_lr_CM = confusion_matrix(Y_testset, clf_lr_pred)\n",
    "sns.heatmap(clf_lr_CM, annot = True, fmt='d', cmap='crest')\n",
    "plt.title(\"Logistic Regression Confusion Matrix with GridSearch - BoW\")"
   ]
  },
  {
   "cell_type": "code",
   "execution_count": 59,
   "id": "79e44566",
   "metadata": {},
   "outputs": [
    {
     "data": {
      "image/png": "[encoded data removed]",
      "text/plain": [
       "<Figure size 432x288 with 1 Axes>"
      ]
     },
     "metadata": {
      "needs_background": "light"
     },
     "output_type": "display_data"
    }
   ],
   "source": [
    "fpr, tpr, thresholds = roc_curve(Y_testset, clf_lr_pred)\n",
    "\n",
    "#calculating auc\n",
    "clf_lr_auc = auc(fpr, tpr)\n",
    "\n",
    "plt.plot(fpr, tpr, color='darkorange', label='ROC curve (area = %0.2f)' % clf_lr_auc)\n",
    "plt.plot([0, 1], [0, 1], \"k--\", label=\"chance level (AUC =0.5)\")\n",
    "plt.xlabel('False Positive Rate')\n",
    "plt.ylabel('True Positive Rate')\n",
    "plt.title('ROC Curve for GridSearch Logistic Regression with BoW')\n",
    "plt.legend()\n",
    "plt.show()"
   ]
  },
  {
   "cell_type": "code",
   "execution_count": null,
   "id": "68bd13ab",
   "metadata": {},
   "outputs": [],
   "source": []
  }
 ],
 "metadata": {
  "kernelspec": {
   "display_name": "Python 3 (ipykernel)",
   "language": "python",
   "name": "python3"
  },
  "language_info": {
   "codemirror_mode": {
    "name": "ipython",
    "version": 3
   },
   "file_extension": ".py",
   "mimetype": "text/x-python",
   "name": "python",
   "nbconvert_exporter": "python",
   "pygments_lexer": "ipython3",
   "version": "3.9.12"
  }
 },
 "nbformat": 4,
 "nbformat_minor": 5
}
