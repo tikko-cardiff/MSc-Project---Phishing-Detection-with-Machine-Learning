{
 "cells": [
  {
   "cell_type": "code",
   "execution_count": 16,
   "id": "37299bc7",
   "metadata": {},
   "outputs": [],
   "source": [
    "import os\n",
    "import csv\n",
    "import email\n",
    "\n",
    "ham = \"C:\\\\Users\\E7470\\OneDrive - Robert Gordon University\\Documents\\Term 3\\Dataset\\email dataset\\enron\\ham\"\n",
    "output = \"ham.csv\"\n",
    "\n",
    "with open(output, mode ='w', newline='') as csv_file:\n",
    "    app = csv.writer(csv_file, delimiter = \",\")\n",
    "    app.writerow(['Email Content'])\n",
    "    \n",
    "    for file in os.listdir(ham):\n",
    "        file_path = os.path.join(ham, file)\n",
    "        if os.path.isfile(file_path):\n",
    "            with open(file_path, 'r') as text_file:\n",
    "                try:\n",
    "                    email_message = email.message_from_file(text_file)\n",
    "                    email_content = email_message.get_payload()\n",
    "                    if isinstance(email_content, list):\n",
    "                        email_content = ''.join(str(part) for part in email_content)\n",
    "                    app.writerow([email_content.replace('\\n', ' ')])\n",
    "                except Exception as e:\n",
    "                    print(f\"Error{file_path}: {str(e)}\")\n",
    "\n"
   ]
  },
  {
   "cell_type": "code",
   "execution_count": 18,
   "id": "2febf989",
   "metadata": {},
   "outputs": [],
   "source": [
    "\n",
    "\n",
    "spam = \"C:\\\\Users\\E7470\\OneDrive - Robert Gordon University\\Documents\\Term 3\\Dataset\\email dataset\\enron\\spam\"\n",
    "output = \"spam.csv\"\n",
    "\n",
    "with open(output, mode ='w', newline='') as csv_file:\n",
    "    app = csv.writer(csv_file, delimiter = \",\")\n",
    "    app.writerow(['Email Content'])\n",
    "    \n",
    "    for file in os.listdir(spam):\n",
    "        file_path = os.path.join(spam, file)\n",
    "        if os.path.isfile(file_path):\n",
    "            with open(file_path, 'r') as text_file:\n",
    "                try:\n",
    "                    email_message = email.message_from_file(text_file)\n",
    "                    email_content = email_message.get_payload()\n",
    "                    if isinstance(email_content, list):\n",
    "                        email_content = ''.join(str(part) for part in email_content)\n",
    "                    app.writerow([email_content.replace('\\n', ' ')])\n",
    "                except Exception as e:\n",
    "                    print(f\"Error{file_path}: {str(e)}\")\n"
   ]
  },
  {
   "cell_type": "code",
   "execution_count": null,
   "id": "ddce1aaf",
   "metadata": {},
   "outputs": [],
   "source": []
  }
 ],
 "metadata": {
  "kernelspec": {
   "display_name": "Python 3 (ipykernel)",
   "language": "python",
   "name": "python3"
  },
  "language_info": {
   "codemirror_mode": {
    "name": "ipython",
    "version": 3
   },
   "file_extension": ".py",
   "mimetype": "text/x-python",
   "name": "python",
   "nbconvert_exporter": "python",
   "pygments_lexer": "ipython3",
   "version": "3.9.12"
  }
 },
 "nbformat": 4,
 "nbformat_minor": 5
}
